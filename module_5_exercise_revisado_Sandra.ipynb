{
  "cells": [
    {
      "cell_type": "markdown",
      "metadata": {
        "id": "KJqp9AANOCtf"
      },
      "source": [
        "<img src=\"https://raw.githubusercontent.com/andre-marcos-perez/ebac-course-utils/main/media/logo/newebac_logo_black_half.png\" alt=\"ebac-logo\">\n",
        "\n",
        "---\n",
        "\n",
        "# **Módulo** | Python: Programação Funcional\n",
        "Caderno de **Exercícios**<br> \n",
        "Professor [André Perez](https://www.linkedin.com/in/andremarcosperez/)\n",
        "\n",
        "---"
      ]
    },
    {
      "cell_type": "markdown",
      "metadata": {
        "id": "d9jDtUbDOE1-"
      },
      "source": [
        "# **Tópicos**\n",
        "\n",
        "<ol type=\"1\">\n",
        "  <li>Função lambda;</li>\n",
        "  <li>Função map;</li>\n",
        "  <li>Função filter;</li>\n",
        "  <li>Função reduce.</li>\n",
        "</ol>"
      ]
    },
    {
      "cell_type": "markdown",
      "metadata": {
        "id": "SmoHgt-lwkpD"
      },
      "source": [
        "---"
      ]
    },
    {
      "cell_type": "markdown",
      "metadata": {
        "id": "GABI6OW8OfQ2"
      },
      "source": [
        "# **Exercícios**"
      ]
    },
    {
      "cell_type": "markdown",
      "metadata": {
        "id": "muD1vxozykSC"
      },
      "source": [
        "## 0\\. Preparação do ambiente "
      ]
    },
    {
      "cell_type": "markdown",
      "metadata": {
        "id": "ahrFfCuBxJKs"
      },
      "source": [
        "Neste exercício vamos trabalhar com o arquivo csv com dados de crédito, definido abaixo. Execute cada uma das células de código para escrever os arquivos na sua máquina virtual."
      ]
    },
    {
      "cell_type": "code",
      "execution_count": 5,
      "metadata": {
        "id": "Kjt3HvFX7C3A",
        "colab": {
          "base_uri": "https://localhost:8080/"
        },
        "outputId": "5177cb76-6f88-413a-82a9-0aa9b479c1d0"
      },
      "outputs": [
        {
          "output_type": "stream",
          "name": "stdout",
          "text": [
            "Writing credito.csv\n"
          ]
        }
      ],
      "source": [
        "%%writefile credito.csv\n",
        "id_vendedor,valor_emprestimos,quantidade_emprestimos,data\n",
        "104271,448.0,1,20161208\n",
        "21476,826.7,3,20161208\n",
        "87440,313.6,3,20161208\n",
        "15980,-8008.0,6,20161208\n",
        "215906,2212.0,5,20161208\n",
        "33696,2771.3,2,20161208\n",
        "33893,2240.0,3,20161208\n",
        "214946,-4151.0,18,20161208\n",
        "123974,2021.95,2,20161208\n",
        "225870,4039.0,2,20161208"
      ]
    },
    {
      "cell_type": "markdown",
      "metadata": {
        "id": "tnhM9v2X7yGS"
      },
      "source": [
        "Vamos ler o conteúdo do arquivo em uma lista onde cada elemento é um dicionário representando as linhas do arquivo."
      ]
    },
    {
      "cell_type": "code",
      "execution_count": 6,
      "metadata": {
        "id": "T00Y_WIh7uPU"
      },
      "outputs": [],
      "source": [
        "emprestimos = []\n",
        "with open(file='./credito.csv', mode='r', encoding='utf8') as fp:\n",
        "  fp.readline() # cabeçalho\n",
        "  linha = fp.readline()\n",
        "  while linha:\n",
        "    linha_emprestimo = {}\n",
        "    linha_elementos = linha.strip().split(sep=',')\n",
        "    linha_emprestimo['id_vendedor'] = linha_elementos[0]\n",
        "    linha_emprestimo['valor_emprestimos'] = linha_elementos[1]\n",
        "    linha_emprestimo['quantidade_emprestimos'] = linha_elementos[2]\n",
        "    linha_emprestimo['data'] = linha_elementos[3]\n",
        "    emprestimos.append(linha_emprestimo)\n",
        "    linha = fp.readline()"
      ]
    },
    {
      "cell_type": "code",
      "execution_count": 7,
      "metadata": {
        "id": "Bp0ZgdTM84bw",
        "colab": {
          "base_uri": "https://localhost:8080/"
        },
        "outputId": "f5255e32-eb7b-4446-8771-85de3c93ca81"
      },
      "outputs": [
        {
          "output_type": "stream",
          "name": "stdout",
          "text": [
            "{'id_vendedor': '104271', 'valor_emprestimos': '448.0', 'quantidade_emprestimos': '1', 'data': '20161208'}\n",
            "{'id_vendedor': '21476', 'valor_emprestimos': '826.7', 'quantidade_emprestimos': '3', 'data': '20161208'}\n",
            "{'id_vendedor': '87440', 'valor_emprestimos': '313.6', 'quantidade_emprestimos': '3', 'data': '20161208'}\n",
            "{'id_vendedor': '15980', 'valor_emprestimos': '-8008.0', 'quantidade_emprestimos': '6', 'data': '20161208'}\n",
            "{'id_vendedor': '215906', 'valor_emprestimos': '2212.0', 'quantidade_emprestimos': '5', 'data': '20161208'}\n",
            "{'id_vendedor': '33696', 'valor_emprestimos': '2771.3', 'quantidade_emprestimos': '2', 'data': '20161208'}\n",
            "{'id_vendedor': '33893', 'valor_emprestimos': '2240.0', 'quantidade_emprestimos': '3', 'data': '20161208'}\n",
            "{'id_vendedor': '214946', 'valor_emprestimos': '-4151.0', 'quantidade_emprestimos': '18', 'data': '20161208'}\n",
            "{'id_vendedor': '123974', 'valor_emprestimos': '2021.95', 'quantidade_emprestimos': '2', 'data': '20161208'}\n",
            "{'id_vendedor': '225870', 'valor_emprestimos': '4039.0', 'quantidade_emprestimos': '2', 'data': '20161208'}\n"
          ]
        }
      ],
      "source": [
        "for emprestimo in emprestimos:\n",
        "  print(emprestimo)"
      ]
    },
    {
      "cell_type": "markdown",
      "metadata": {
        "id": "KI9zQRT2xa7m"
      },
      "source": [
        "## 1\\. Função `map`\n",
        "\n"
      ]
    },
    {
      "cell_type": "markdown",
      "metadata": {
        "id": "U63MjM7H7o1Y"
      },
      "source": [
        "Aplique a função map na lista de `emprestimos` para extrair os valores da chave `valor_emprestimos` na lista `valor_emprestimos_lista`. Faça também a conversão de `str` para `float`."
      ]
    },
    {
      "cell_type": "code",
      "execution_count": 8,
      "metadata": {
        "id": "-yAW4PJh9h7a"
      },
      "outputs": [],
      "source": [
        "valor_emprestimos_mapa = map(lambda valor_emprestimo : float(valor_emprestimo['valor_emprestimos']), emprestimos)\n",
        "valor_emprestimos_lista = list(valor_emprestimos_mapa)"
      ]
    },
    {
      "cell_type": "code",
      "execution_count": 9,
      "metadata": {
        "id": "MQUvYdzJ9ndC",
        "colab": {
          "base_uri": "https://localhost:8080/"
        },
        "outputId": "656a6ee4-b989-40ae-cfbb-0f235ad709bd"
      },
      "outputs": [
        {
          "output_type": "stream",
          "name": "stdout",
          "text": [
            "[448.0, 826.7, 313.6, -8008.0, 2212.0, 2771.3, 2240.0, -4151.0, 2021.95, 4039.0]\n"
          ]
        }
      ],
      "source": [
        "print (valor_emprestimos_lista) # [448.0, 826.7, ..., 4039.0]"
      ]
    },
    {
      "cell_type": "markdown",
      "metadata": {
        "id": "zMN1Q3jdwoJm"
      },
      "source": [
        "---"
      ]
    },
    {
      "cell_type": "markdown",
      "metadata": {
        "id": "WKHvMtFX_JKH"
      },
      "source": [
        "## 2\\. Função `filter`\n",
        "\n"
      ]
    },
    {
      "cell_type": "markdown",
      "metadata": {
        "id": "6V34N3Lf_gUM"
      },
      "source": [
        "Aplique a função filter na lista de `valor_emprestimos_lista` para filtrar apenas os valores maiores que zero (os valores negativas são erros na base de dados). Salve os valores na lista `valor_emprestimos_lista_filtrada`."
      ]
    },
    {
      "cell_type": "code",
      "execution_count": 10,
      "metadata": {
        "id": "3y7Vmm0yACuk"
      },
      "outputs": [],
      "source": [
        "valor_emprestimos_filtrada = filter (lambda valor_emprestimo:(valor_emprestimo > 0), valor_emprestimos_lista)\n",
        "valor_emprestimos_lista_filtrada = list (valor_emprestimos_filtrada)"
      ]
    },
    {
      "cell_type": "code",
      "execution_count": 11,
      "metadata": {
        "id": "socxMS6NADsM",
        "colab": {
          "base_uri": "https://localhost:8080/"
        },
        "outputId": "db8ab75b-1953-41c8-ff3e-ea5fccd249db"
      },
      "outputs": [
        {
          "output_type": "stream",
          "name": "stdout",
          "text": [
            "[448.0, 826.7, 313.6, 2212.0, 2771.3, 2240.0, 2021.95, 4039.0]\n"
          ]
        }
      ],
      "source": [
        "print(valor_emprestimos_lista_filtrada) # [448.0, 826.7, ..., 4039.0]"
      ]
    },
    {
      "cell_type": "markdown",
      "metadata": {
        "id": "4yqCAVCo_Yp3"
      },
      "source": [
        "---"
      ]
    },
    {
      "cell_type": "markdown",
      "metadata": {
        "id": "s4TzfRxC_Yp4"
      },
      "source": [
        "## 3\\. Função `reduce`\n",
        "\n"
      ]
    },
    {
      "cell_type": "markdown",
      "metadata": {
        "id": "RwV4V7gDAWfJ"
      },
      "source": [
        "Com a nossa lista de valores de emprestimo pronta, vamos extrair algumas métricas."
      ]
    },
    {
      "cell_type": "markdown",
      "metadata": {
        "id": "zjXA6H0LAf1_"
      },
      "source": [
        "### 3\\.1\\. Função `reduce` para extrair a **soma**"
      ]
    },
    {
      "cell_type": "markdown",
      "metadata": {
        "id": "u1kxPpkUArKw"
      },
      "source": [
        "Aplique a função reduce para somar os elementos da lista `valor_emprestimos_lista_filtrada` na variavel `soma_valor_emprestimos`."
      ]
    },
    {
      "cell_type": "code",
      "execution_count": 12,
      "metadata": {
        "id": "ptAFEVpMAr6_"
      },
      "outputs": [],
      "source": [
        "from functools import reduce\n",
        "\n",
        "soma_valor_emprestimos =  reduce (lambda x,y : (x + y),valor_emprestimos_lista_filtrada)"
      ]
    },
    {
      "cell_type": "code",
      "execution_count": 13,
      "metadata": {
        "id": "fPosL2LZBDxz",
        "colab": {
          "base_uri": "https://localhost:8080/"
        },
        "outputId": "82e6f06a-71a3-4140-cb8a-77b44a466620"
      },
      "outputs": [
        {
          "output_type": "stream",
          "name": "stdout",
          "text": [
            "14872.550000000001\n"
          ]
        }
      ],
      "source": [
        "print(soma_valor_emprestimos) # 14872.550000000001"
      ]
    },
    {
      "cell_type": "markdown",
      "metadata": {
        "id": "v8h9TkYqBLPn"
      },
      "source": [
        "### 3\\.2\\. Função `reduce` para extrair a **media aritimética**"
      ]
    },
    {
      "cell_type": "markdown",
      "metadata": {
        "id": "VXsNI53NBLPo"
      },
      "source": [
        "Aplique a função reduce para extrair a média aritimética (mais informações [aqui](https://pt.wikipedia.org/wiki/M%C3%A9dia#M%C3%A9dia_aritm%C3%A9tica)) dos elementos da lista `valor_emprestimos_lista_filtrada` na variavel `media_valor_emprestimos`.\n",
        "\n",
        "Dica: Para calcular o tamanho da lista, isto é a quantidade de elementos, utilize a função len(), dentro do argumento da função coloque a lista `valor_emprestimos_lista_filtrada`."
      ]
    },
    {
      "cell_type": "code",
      "execution_count": 18,
      "metadata": {
        "id": "qbWv8a2GBLPp"
      },
      "outputs": [],
      "source": [
        "from functools import reduce\n",
        "soma_valor_emprestimos =  reduce (lambda x,y : (x + y),valor_emprestimos_lista_filtrada)\n",
        "media_valor_emprestimos = soma_valor_emprestimos / len(valor_emprestimos_lista_filtrada)"
      ]
    },
    {
      "cell_type": "code",
      "execution_count": 19,
      "metadata": {
        "id": "V-hh5hCKBLPr",
        "colab": {
          "base_uri": "https://localhost:8080/"
        },
        "outputId": "60297a4b-1118-452b-97f0-47e2a9673e92"
      },
      "outputs": [
        {
          "output_type": "stream",
          "name": "stdout",
          "text": [
            "1859.0687500000001\n"
          ]
        }
      ],
      "source": [
        "print(media_valor_emprestimos) # 1859.0687500000001"
      ]
    },
    {
      "cell_type": "markdown",
      "metadata": {
        "id": "rCwM3DcJBeyB"
      },
      "source": [
        "### 3\\.3\\. (**Desafio**) Função `reduce` para extrair o **desvio padrão amostral**"
      ]
    },
    {
      "cell_type": "markdown",
      "metadata": {
        "id": "jw3azoT_BeyC"
      },
      "source": [
        "Aplique a função reduce para extrair a média aritimética (mais informações [aqui](https://pt.wikipedia.org/wiki/M%C3%A9dia#M%C3%A9dia_aritm%C3%A9tica)) dos elementos da lista `valor_emprestimos_lista_filtrada` na variavel `desvio_padrao_valor_emprestimos`.\n",
        "\n"
      ]
    },
    {
      "cell_type": "code",
      "execution_count": 52,
      "metadata": {
        "id": "8HnNxp9mBeyD",
        "colab": {
          "base_uri": "https://localhost:8080/",
          "height": 235
        },
        "outputId": "9b4af961-bbfa-416c-88d7-84969dd0235c"
      },
      "outputs": [
        {
          "output_type": "error",
          "ename": "TypeError",
          "evalue": "ignored",
          "traceback": [
            "\u001b[0;31m---------------------------------------------------------------------------\u001b[0m",
            "\u001b[0;31mTypeError\u001b[0m                                 Traceback (most recent call last)",
            "\u001b[0;32m<ipython-input-52-a74cc61ff6a0>\u001b[0m in \u001b[0;36m<module>\u001b[0;34m\u001b[0m\n\u001b[1;32m      5\u001b[0m \u001b[0mlista\u001b[0m \u001b[0;34m=\u001b[0m \u001b[0mlist\u001b[0m \u001b[0;34m(\u001b[0m\u001b[0mdevs_pad\u001b[0m\u001b[0;34m)\u001b[0m\u001b[0;34m\u001b[0m\u001b[0;34m\u001b[0m\u001b[0m\n\u001b[1;32m      6\u001b[0m \u001b[0mpasso_1\u001b[0m \u001b[0;34m=\u001b[0m \u001b[0mmap\u001b[0m \u001b[0;34m(\u001b[0m\u001b[0;32mlambda\u001b[0m \u001b[0mx\u001b[0m\u001b[0;34m,\u001b[0m\u001b[0my\u001b[0m\u001b[0;34m:\u001b[0m \u001b[0mx\u001b[0m\u001b[0;34m+\u001b[0m\u001b[0my\u001b[0m\u001b[0;34m,\u001b[0m \u001b[0mlista\u001b[0m\u001b[0;34m)\u001b[0m\u001b[0;34m\u001b[0m\u001b[0;34m\u001b[0m\u001b[0m\n\u001b[0;32m----> 7\u001b[0;31m \u001b[0mpasso_2\u001b[0m \u001b[0;34m=\u001b[0m \u001b[0mreduce\u001b[0m \u001b[0;34m(\u001b[0m\u001b[0;32mlambda\u001b[0m \u001b[0ma\u001b[0m\u001b[0;34m,\u001b[0m\u001b[0mb\u001b[0m\u001b[0;34m:\u001b[0m \u001b[0mfloat\u001b[0m \u001b[0;34m(\u001b[0m\u001b[0ma\u001b[0m\u001b[0;34m+\u001b[0m\u001b[0mb\u001b[0m\u001b[0;34m)\u001b[0m\u001b[0;34m,\u001b[0m \u001b[0mpasso_1\u001b[0m\u001b[0;34m)\u001b[0m\u001b[0;34m\u001b[0m\u001b[0;34m\u001b[0m\u001b[0m\n\u001b[0m\u001b[1;32m      8\u001b[0m \u001b[0mpasso_3\u001b[0m \u001b[0;34m=\u001b[0m \u001b[0mpasso_2\u001b[0m \u001b[0;34m/\u001b[0m\u001b[0;34m(\u001b[0m\u001b[0mlen\u001b[0m\u001b[0;34m(\u001b[0m\u001b[0mvalor_emprestimos_lista_filtrada\u001b[0m\u001b[0;34m)\u001b[0m\u001b[0;34m-\u001b[0m\u001b[0;36m1\u001b[0m\u001b[0;34m)\u001b[0m\u001b[0;34m\u001b[0m\u001b[0;34m\u001b[0m\u001b[0m\n\u001b[1;32m      9\u001b[0m \u001b[0mpasso_4\u001b[0m\u001b[0;34m=\u001b[0m \u001b[0msqrt\u001b[0m \u001b[0;34m(\u001b[0m\u001b[0mpasso_3\u001b[0m\u001b[0;34m)\u001b[0m\u001b[0;34m\u001b[0m\u001b[0;34m\u001b[0m\u001b[0m\n",
            "\u001b[0;31mTypeError\u001b[0m: <lambda>() missing 1 required positional argument: 'y'"
          ]
        }
      ],
      "source": [
        "from functools import reduce\n",
        "from math import sqrt\n",
        "\n",
        "devs_pad = map (lambda x: (media_valor_emprestimos **2), valor_emprestimos_lista_filtrada)\n",
        "lista = list (devs_pad)\n",
        "passo_1 = map (lambda x,y: x+y, lista) \n",
        "passo_2 = reduce (lambda a,b: float (a+b), passo_1)\n",
        "passo_3 = passo_2 /(len(valor_emprestimos_lista_filtrada)-1)\n",
        "passo_4= sqrt (passo_3)\n",
        "\n",
        "desvio_padrao_valor_emprestimos = passo_4\n"
      ]
    },
    {
      "cell_type": "code",
      "execution_count": 40,
      "metadata": {
        "id": "3dDC-KRYBeyE",
        "colab": {
          "base_uri": "https://localhost:8080/"
        },
        "outputId": "fe416c99-f23c-40e1-f2a3-3bdaac16102e"
      },
      "outputs": [
        {
          "output_type": "stream",
          "name": "stdout",
          "text": [
            "1987.4280917023138\n"
          ]
        }
      ],
      "source": [
        "print(desvio_padrao_valor_emprestimos) # 1271.997271149785"
      ]
    },
    {
      "cell_type": "markdown",
      "metadata": {
        "id": "ai2mZYnG_b_s"
      },
      "source": [
        "---"
      ]
    }
  ],
  "metadata": {
    "colab": {
      "provenance": [],
      "toc_visible": true
    },
    "kernelspec": {
      "display_name": "Python 3 (ipykernel)",
      "language": "python",
      "name": "python3"
    },
    "language_info": {
      "codemirror_mode": {
        "name": "ipython",
        "version": 3
      },
      "file_extension": ".py",
      "mimetype": "text/x-python",
      "name": "python",
      "nbconvert_exporter": "python",
      "pygments_lexer": "ipython3",
      "version": "3.9.7"
    }
  },
  "nbformat": 4,
  "nbformat_minor": 0
}